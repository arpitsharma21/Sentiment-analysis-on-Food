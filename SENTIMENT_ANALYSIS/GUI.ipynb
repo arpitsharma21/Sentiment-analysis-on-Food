{
 "cells": [
  {
   "cell_type": "code",
   "execution_count": null,
   "metadata": {},
   "outputs": [],
   "source": [
    "!pip install speechrecognition"
   ]
  },
  {
   "cell_type": "code",
   "execution_count": null,
   "metadata": {},
   "outputs": [],
   "source": [
    "!pip install pyaudio"
   ]
  },
  {
   "cell_type": "code",
   "execution_count": null,
   "metadata": {},
   "outputs": [],
   "source": [
    "# !pip install PILLOW"
   ]
  },
  {
   "cell_type": "code",
   "execution_count": null,
   "metadata": {},
   "outputs": [],
   "source": [
    "# !pip install pyttsx3"
   ]
  },
  {
   "cell_type": "code",
   "execution_count": null,
   "metadata": {},
   "outputs": [],
   "source": [
    "# !pip install sounddevice"
   ]
  },
  {
   "cell_type": "code",
   "execution_count": null,
   "metadata": {},
   "outputs": [],
   "source": [
    "from PIL import Image,ImageTk"
   ]
  },
  {
   "cell_type": "code",
   "execution_count": null,
   "metadata": {},
   "outputs": [],
   "source": [
    "import pickle\n",
    "import speech_recognition as sr\n",
    "\n",
    "file = open(\"review_model.pkl\",\"rb\")\n",
    "model = pickle.load(file)\n",
    "\n",
    "f = open(\"countvec.pkl\",\"rb\")\n",
    "cv = pickle.load(f)"
   ]
  },
  {
   "cell_type": "code",
   "execution_count": null,
   "metadata": {},
   "outputs": [],
   "source": [
    "from tkinter import *\n",
    "from tkinter import messagebox\n",
    "import pyttsx3\n",
    "\n",
    "target = {1:\"Review is Positive\",0:\"Negative Review\"}\n",
    "\n",
    "\n",
    "def get_data():\n",
    "        data = text.get(\"1.0\",END)\n",
    "    \n",
    "        tst = cv.transform([data])\n",
    "        pred = model.predict(tst)\n",
    "        engine = pyttsx3.init()\n",
    "        print(\"Prediction is :\",pred)\n",
    "        if pred[0]==1:\n",
    "            engine.say(\"Thanks for your review.\")\n",
    "            engine.runAndWait()\n",
    "            messagebox.showinfo(\"Review\",\"Review is positive\")\n",
    "\n",
    "        else:\n",
    "            if data==\" \":\n",
    "                messagebox.showerror(\"Invalid\",\"no text\")\n",
    "            \n",
    "            engine.say(\"Sorry for the inconvenience ,we will try to improve our services\")\n",
    "            engine.runAndWait()\n",
    "            messagebox.showinfo(\"Review\",\"Review is negative\")\n",
    "        \n",
    "        \n",
    "def clear():\n",
    "    text.delete(\"1.0\",END)\n",
    "    \n",
    "    \n",
    "def speak():\n",
    "    r = sr.Recognizer()  \n",
    "    with sr.Microphone() as source :\n",
    "        r.adjust_for_ambient_noise(source, duration=5)\n",
    "        print(\"Say Something.... \")\n",
    "        audio = r.listen(source)\n",
    "    try:\n",
    "        print(\"You said\",+r.recognize_google(audio))\n",
    "        text.insert(audio)\n",
    "        \n",
    "    except :\n",
    "        print(\"Could not understand audio\")\n",
    "    \n",
    "    \n",
    "main = Tk()\n",
    "\n",
    "main.title(\"Food Review APP\")\n",
    "label = Label(main,text=\"SENTIMENT ANAYSIS ON FOOD REVIEWS\",fg=\"dark blue\",font=(\"algerian\",20),bg='pink')\n",
    "main.resizable(0,0)\n",
    "main.config(bg=\"light gray\")\n",
    "label.pack(pady=15,fill=\"x\",ipady=5)\n",
    "\n",
    "text = Text(main,width=68 ,height=18)\n",
    "text.pack(pady=1,padx=4)\n",
    "\n",
    "btn = Button(main,text=\"Submit Review\",bg=\"#4a9878\",fg=\"white\",command=get_data,font =('algerian',15,'bold'))\n",
    "btn.pack(pady=25,side=\"left\",padx=20)\n",
    "\n",
    "btn = Button(main,text=\"clear\",bg=\"#60f062\",fg=\"white\",command=clear,font =('algerian',15,'bold'))\n",
    "btn.pack(pady=10,side='left',padx=74)\n",
    "\n",
    "btn = Button(main,text=\"Speak\",bg=\"#60f062\",fg=\"white\",command=speak,font =('algerian',15,'bold'))\n",
    "btn.pack(pady=10,side='left')\n",
    "\n",
    "main.geometry('600x530')\n",
    "main.mainloop()"
   ]
  },
  {
   "cell_type": "code",
   "execution_count": null,
   "metadata": {},
   "outputs": [],
   "source": []
  }
 ],
 "metadata": {
  "kernelspec": {
   "display_name": "Python 3",
   "language": "python",
   "name": "python3"
  },
  "language_info": {
   "codemirror_mode": {
    "name": "ipython",
    "version": 3
   },
   "file_extension": ".py",
   "mimetype": "text/x-python",
   "name": "python",
   "nbconvert_exporter": "python",
   "pygments_lexer": "ipython3",
   "version": "3.7.6"
  }
 },
 "nbformat": 4,
 "nbformat_minor": 4
}
